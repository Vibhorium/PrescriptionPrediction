{
 "cells": [
  {
   "cell_type": "code",
   "execution_count": 56,
   "metadata": {},
   "outputs": [],
   "source": [
    "from fuzzywuzzy import fuzz\n",
    "import re\n",
    "file1 = open(\"common_words.txt\",\"r\") "
   ]
  },
  {
   "cell_type": "code",
   "execution_count": 50,
   "metadata": {},
   "outputs": [],
   "source": [
    "parameter_common_word = 55"
   ]
  },
  {
   "cell_type": "code",
   "execution_count": 51,
   "metadata": {},
   "outputs": [
    {
     "name": "stdout",
     "output_type": "stream",
     "text": [
      "['thrice', 'twice', 'once', 'early', 'morning', 'afternoon', 'evening', 'night', 'nights', 'bedtime', 'for', 'day', 'days', 'tab', 'tab.', 'tablet', 'syr', 'syr.', 'syrup', 'cap', 'cap.', 'capsule', 'empty', 'stomach', 'weeks', 'week', 'wks', 'alternate', 'MWF', 'TTS', 'every', 'before', 'after', 'meal', 'time']\n"
     ]
    }
   ],
   "source": [
    "common_words = file1.readlines()\n",
    "common_words =[word[:-1] for word in common_words]\n",
    "print(common_words)"
   ]
  },
  {
   "cell_type": "code",
   "execution_count": 52,
   "metadata": {},
   "outputs": [],
   "source": [
    "def fuzzy_common_word(input_word):\n",
    "    max_score=0\n",
    "    output=\"NA\"\n",
    "    for curr_word in common_words:\n",
    "        curr_score=fuzz.token_set_ratio(input_word, curr_word)\n",
    "        if(curr_score > max_score):\n",
    "            max_score=curr_score\n",
    "            output=curr_word\n",
    "\n",
    "    return output, max_score"
   ]
  },
  {
   "cell_type": "code",
   "execution_count": 57,
   "metadata": {},
   "outputs": [],
   "source": [
    "def replace_with_fuzzy_match(scanned_line):\n",
    "    line = scanned_line[0]\n",
    "    medicine_name = scanned_line[1]\n",
    "    words = line.split(' ')\n",
    "    output =\"\"\n",
    "    for word in words:\n",
    "        #if word has a number skip it\n",
    "        numerics = [int(s) for s in re.findall(r'\\d+', word)]\n",
    "        if(len(numerics) >0):\n",
    "            output+= word\n",
    "            output += \" \"\n",
    "            continue\n",
    "        \n",
    "        if (word == medicine_name):  #skip if it is same as medicine name detected\n",
    "            output += word\n",
    "            output += \" \"\n",
    "            continue\n",
    "        fuzzy_match, score = fuzzy_common_word(word)\n",
    "        print(\"For word: \", word, \"fuzzy match is \", fuzzy_match, \" with score \", score)\n",
    "        if score >= parameter_common_word:\n",
    "            word = fuzzy_match\n",
    "        output += word\n",
    "        output += \" \"\n",
    "    return output"
   ]
  },
  {
   "cell_type": "code",
   "execution_count": 58,
   "metadata": {},
   "outputs": [],
   "source": [
    "scanned_lines=[\n",
    "    [\"Sgp. Paracetamol x3d OD\", \"Paracetamol\"],\n",
    "    [\"Taq. Combiflam fwise a day fon 5 days\", \"Combiflam\"],\n",
    "    [\"Cap. Paracetamol bid\", \"Paracetamol\"],\n",
    "    [\"Cap. Paracetamol td\", \"Paracetamol\"],\n",
    "    [\"Tab. Paracetamol qd\", \"Paracetamol\"],\n",
    "    [\"Tab. Paracetamol enptg stanach\", \"Paracetamol\"],\n",
    "    [\"Tab. Paracetamol x3 wks abter neats thwico a dag\", \"Paracetamol\"],\n",
    "    [\"Tab. Paracetamol MWT OD\", \"Paracetamol\"],\n",
    "    [\"Cap. Paracetamol qefare beb\", \"Paracetamol\"],\n",
    "    [\"Syp. Paracetamol omce a ueek for 8 wks\", \"Paracetamol\"],\n",
    "    [\"Tab. Paracetamol euerg niyjt fur 7 d\", \"Paracetamol\"]\n",
    "]"
   ]
  },
  {
   "cell_type": "code",
   "execution_count": 59,
   "metadata": {},
   "outputs": [
    {
     "name": "stdout",
     "output_type": "stream",
     "text": [
      "For word:  Sgp. fuzzy match is  syrup  with score  50\n",
      "For word:  OD fuzzy match is  for  with score  40\n",
      "Sgp. Paracetamol x3d OD \n",
      "For word:  Taq. fuzzy match is  tab  with score  67\n",
      "For word:  fwise fuzzy match is  twice  with score  60\n",
      "For word:  a fuzzy match is  day  with score  50\n",
      "For word:  day fuzzy match is  day  with score  100\n",
      "For word:  fon fuzzy match is  for  with score  67\n",
      "For word:  days fuzzy match is  days  with score  100\n",
      "tab Combiflam twice a day for 5 days \n",
      "For word:  Cap. fuzzy match is  cap  with score  100\n",
      "For word:  bid fuzzy match is  bedtime  with score  40\n",
      "cap Paracetamol bid \n",
      "For word:  Cap. fuzzy match is  cap  with score  100\n",
      "For word:  td fuzzy match is  day  with score  40\n",
      "cap Paracetamol td \n",
      "For word:  Tab. fuzzy match is  tab  with score  100\n",
      "For word:  qd fuzzy match is  day  with score  40\n",
      "tab Paracetamol qd \n",
      "For word:  Tab. fuzzy match is  tab  with score  100\n",
      "For word:  enptg fuzzy match is  empty  with score  60\n",
      "For word:  stanach fuzzy match is  stomach  with score  71\n",
      "tab Paracetamol empty stomach \n",
      "For word:  Tab. fuzzy match is  tab  with score  100\n",
      "For word:  wks fuzzy match is  wks  with score  100\n",
      "For word:  abter fuzzy match is  after  with score  80\n",
      "For word:  neats fuzzy match is  nights  with score  55\n",
      "For word:  thwico fuzzy match is  twice  with score  73\n",
      "For word:  a fuzzy match is  day  with score  50\n",
      "For word:  dag fuzzy match is  day  with score  67\n",
      "tab Paracetamol x3 wks after nights twice a day \n",
      "For word:  Tab. fuzzy match is  tab  with score  100\n",
      "For word:  MWT fuzzy match is  MWF  with score  67\n",
      "For word:  OD fuzzy match is  for  with score  40\n",
      "tab Paracetamol MWF OD \n",
      "For word:  Cap. fuzzy match is  cap  with score  100\n",
      "For word:  qefare fuzzy match is  before  with score  67\n",
      "For word:  beb fuzzy match is  tablet  with score  44\n",
      "cap Paracetamol before beb \n",
      "For word:  Syp. fuzzy match is  syrup  with score  75\n",
      "For word:  omce fuzzy match is  once  with score  75\n",
      "For word:  a fuzzy match is  day  with score  50\n",
      "For word:  ueek fuzzy match is  week  with score  75\n",
      "For word:  for fuzzy match is  for  with score  100\n",
      "For word:  wks fuzzy match is  wks  with score  100\n",
      "syrup Paracetamol once a week for 8 wks \n",
      "For word:  Tab. fuzzy match is  tab  with score  100\n",
      "For word:  euerg fuzzy match is  every  with score  60\n",
      "For word:  niyjt fuzzy match is  night  with score  60\n",
      "For word:  fur fuzzy match is  for  with score  67\n",
      "For word:  d fuzzy match is  day  with score  50\n",
      "tab Paracetamol every night for 7 d \n"
     ]
    }
   ],
   "source": [
    "for line in scanned_lines:\n",
    "    print(replace_with_fuzzy_match(line))"
   ]
  },
  {
   "cell_type": "code",
   "execution_count": 2,
   "metadata": {},
   "outputs": [],
   "source": [
    "file1.close()"
   ]
  }
 ],
 "metadata": {
  "kernelspec": {
   "display_name": "Python 3",
   "language": "python",
   "name": "python3"
  },
  "language_info": {
   "codemirror_mode": {
    "name": "ipython",
    "version": 3
   },
   "file_extension": ".py",
   "mimetype": "text/x-python",
   "name": "python",
   "nbconvert_exporter": "python",
   "pygments_lexer": "ipython3",
   "version": "3.6.8"
  }
 },
 "nbformat": 4,
 "nbformat_minor": 2
}
