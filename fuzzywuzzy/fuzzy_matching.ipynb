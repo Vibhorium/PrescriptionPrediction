{
 "cells": [
  {
   "cell_type": "code",
   "execution_count": 1,
   "metadata": {},
   "outputs": [],
   "source": [
    "from fuzzywuzzy import fuzz\n",
    "from fuzzywuzzy import process\n",
    "import pandas as pd"
   ]
  },
  {
   "cell_type": "code",
   "execution_count": 2,
   "metadata": {},
   "outputs": [],
   "source": [
    "data1=pd.read_table(\"drugsComTrain_raw.tsv\",sep='\\t')\n",
    "data2=pd.read_table(\"drugsComTest_raw.tsv\",sep='\\t')\n",
    "data3=pd.read_table(\"drugLibTrain_raw.tsv\",sep='\\t')\n",
    "data4=pd.read_table(\"drugLibTest_raw.tsv\",sep='\\t')\n",
    "data5=pd.read_table(\"drugs.tsv\",sep='\\t')\n",
    "data6=pd.read_table(\"indications.tsv\",sep='\\t')"
   ]
  },
  {
   "cell_type": "code",
   "execution_count": 3,
   "metadata": {},
   "outputs": [],
   "source": [
    "drugs_names=[]\n",
    "for i in range(len(data1)):\n",
    "    drugs_names.append(data1.loc[i,\"drugName\"])\n",
    "for i in range(len(data2)):\n",
    "    drugs_names.append(data2.loc[i,\"drugName\"])\n",
    "for i in range(len(data3)):\n",
    "    drugs_names.append(data3.loc[i,\"urlDrugName\"])\n",
    "for i in range(len(data4)):\n",
    "    drugs_names.append(data4.loc[i,\"urlDrugName\"])\n",
    "for i in range(len(data5)):\n",
    "    drugs_names.append(data5.loc[i,\"drug\"])\n",
    "for i in range(len(data6)):\n",
    "    drugs_names.append(data6.loc[i,\"drug\"])"
   ]
  },
  {
   "cell_type": "code",
   "execution_count": 4,
   "metadata": {},
   "outputs": [
    {
     "data": {
      "text/plain": [
       "221195"
      ]
     },
     "execution_count": 4,
     "metadata": {},
     "output_type": "execute_result"
    }
   ],
   "source": [
    "len(drugs_names)"
   ]
  },
  {
   "cell_type": "code",
   "execution_count": 26,
   "metadata": {},
   "outputs": [],
   "source": [
    " def find_Drug_Name(word):\n",
    "        \n",
    "        max_score=0.0\n",
    "        output_drug=\"\"\n",
    "        for i in range(len(drugs_names)):\n",
    "            curr_score=fuzz.token_set_ratio(word,drugs_names[i])\n",
    "            if(curr_score > max_score):\n",
    "                max_score=curr_score\n",
    "                output_drug=drugs_names[i]\n",
    "        \n",
    "        print(max_score)\n",
    "        return output_drug"
   ]
  },
  {
   "cell_type": "code",
   "execution_count": 27,
   "metadata": {},
   "outputs": [
    {
     "name": "stdout",
     "output_type": "stream",
     "text": [
      "67\n",
      "Paliperidone\n",
      "67\n",
      "Estradiol\n",
      "67\n",
      "Prolia\n",
      "67\n",
      "Adoxa\n",
      "80\n",
      "Toradol\n"
     ]
    }
   ],
   "source": [
    "drugs=[\"Piparidem\",\"Cslradiot\",\"Paryalida\",\"badofam\",\"Tronadol\"]\n",
    "for i in range(len(drugs)):\n",
    "    output=find_Drug_Name(drugs[i])\n",
    "    print(output)"
   ]
  },
  {
   "cell_type": "code",
   "execution_count": null,
   "metadata": {},
   "outputs": [],
   "source": []
  }
 ],
 "metadata": {
  "kernelspec": {
   "display_name": "Python 3",
   "language": "python",
   "name": "python3"
  },
  "language_info": {
   "codemirror_mode": {
    "name": "ipython",
    "version": 3
   },
   "file_extension": ".py",
   "mimetype": "text/x-python",
   "name": "python",
   "nbconvert_exporter": "python",
   "pygments_lexer": "ipython3",
   "version": "3.7.1"
  }
 },
 "nbformat": 4,
 "nbformat_minor": 2
}
