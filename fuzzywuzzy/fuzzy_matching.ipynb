{
 "cells": [
  {
   "cell_type": "code",
   "execution_count": 5,
   "metadata": {},
   "outputs": [
    {
     "name": "stderr",
     "output_type": "stream",
     "text": [
      "C:\\Users\\Kartik\\Anaconda3\\lib\\site-packages\\fuzzywuzzy\\fuzz.py:11: UserWarning: Using slow pure-python SequenceMatcher. Install python-Levenshtein to remove this warning\n",
      "  warnings.warn('Using slow pure-python SequenceMatcher. Install python-Levenshtein to remove this warning')\n"
     ]
    }
   ],
   "source": []
  },
  {
   "cell_type": "code",
   "execution_count": 7,
   "metadata": {},
   "outputs": [],
   "source": [
    "drugs_names=[]"
   ]
  },
  {
   "cell_type": "code",
   "execution_count": 1,
   "metadata": {},
   "outputs": [],
   "source": [
    "def initialise_data():\n",
    "    from fuzzywuzzy import fuzz\n",
    "    from fuzzywuzzy import process\n",
    "    import pandas as pd\n",
    "    data1=pd.read_table(\"drugsComTrain_raw.tsv\",sep='\\t')\n",
    "    data2=pd.read_table(\"drugsComTest_raw.tsv\",sep='\\t')\n",
    "    data3=pd.read_table(\"drugLibTrain_raw.tsv\",sep='\\t')\n",
    "    data4=pd.read_table(\"drugLibTest_raw.tsv\",sep='\\t')\n",
    "    data5=pd.read_table(\"drugs.tsv\",sep='\\t')\n",
    "    data6=pd.read_table(\"indications.tsv\",sep='\\t')\n",
    "    \n",
    "    # for i in range(len(data1)):\n",
    "    #     drugs_names.append(data1.loc[i,\"drugName\"])\n",
    "    # for i in range(len(data2)):\n",
    "    #     drugs_names.append(data2.loc[i,\"drugName\"])\n",
    "    # for i in range(len(data3)):\n",
    "    #     drugs_names.append(data3.loc[i,\"urlDrugName\"])\n",
    "    # for i in range(len(data4)):\n",
    "    #     drugs_names.append(data4.loc[i,\"urlDrugName\"])\n",
    "    for i in range(len(data5)):\n",
    "        drugs_names.append(data5.loc[i,\"drug\"])\n",
    "    # for i in range(len(data6)):\n",
    "    #     drugs_names.append(data6.loc[i,\"drug\"])"
   ]
  },
  {
   "cell_type": "code",
   "execution_count": 2,
   "metadata": {},
   "outputs": [],
   "source": [
    "# data1=pd.read_table(\"drugsComTrain_raw.tsv\",sep='\\t')\n",
    "# data2=pd.read_table(\"drugsComTest_raw.tsv\",sep='\\t')\n",
    "# data3=pd.read_table(\"drugLibTrain_raw.tsv\",sep='\\t')\n",
    "# data4=pd.read_table(\"drugLibTest_raw.tsv\",sep='\\t')\n",
    "# data5=pd.read_table(\"drugs.tsv\",sep='\\t')\n",
    "# data6=pd.read_table(\"indications.tsv\",sep='\\t')"
   ]
  },
  {
   "cell_type": "code",
   "execution_count": 3,
   "metadata": {},
   "outputs": [],
   "source": [
    "# drugs_names=[]\n",
    "# # for i in range(len(data1)):\n",
    "# #     drugs_names.append(data1.loc[i,\"drugName\"])\n",
    "# # for i in range(len(data2)):\n",
    "# #     drugs_names.append(data2.loc[i,\"drugName\"])\n",
    "# # for i in range(len(data3)):\n",
    "# #     drugs_names.append(data3.loc[i,\"urlDrugName\"])\n",
    "# # for i in range(len(data4)):\n",
    "# #     drugs_names.append(data4.loc[i,\"urlDrugName\"])\n",
    "# for i in range(len(data5)):\n",
    "#     drugs_names.append(data5.loc[i,\"drug\"])\n",
    "# # for i in range(len(data6)):\n",
    "# #     drugs_names.append(data6.loc[i,\"drug\"])"
   ]
  },
  {
   "cell_type": "code",
   "execution_count": 8,
   "metadata": {},
   "outputs": [
    {
     "name": "stderr",
     "output_type": "stream",
     "text": [
      "C:\\Users\\Kartik\\Anaconda3\\lib\\site-packages\\ipykernel_launcher.py:2: FutureWarning: read_table is deprecated, use read_csv instead.\n",
      "  \n",
      "C:\\Users\\Kartik\\Anaconda3\\lib\\site-packages\\ipykernel_launcher.py:3: FutureWarning: read_table is deprecated, use read_csv instead.\n",
      "  This is separate from the ipykernel package so we can avoid doing imports until\n",
      "C:\\Users\\Kartik\\Anaconda3\\lib\\site-packages\\ipykernel_launcher.py:4: FutureWarning: read_table is deprecated, use read_csv instead.\n",
      "  after removing the cwd from sys.path.\n",
      "C:\\Users\\Kartik\\Anaconda3\\lib\\site-packages\\ipykernel_launcher.py:5: FutureWarning: read_table is deprecated, use read_csv instead.\n",
      "  \"\"\"\n",
      "C:\\Users\\Kartik\\Anaconda3\\lib\\site-packages\\ipykernel_launcher.py:6: FutureWarning: read_table is deprecated, use read_csv instead.\n",
      "  \n",
      "C:\\Users\\Kartik\\Anaconda3\\lib\\site-packages\\ipykernel_launcher.py:7: FutureWarning: read_table is deprecated, use read_csv instead.\n",
      "  import sys\n"
     ]
    },
    {
     "data": {
      "text/plain": [
       "601"
      ]
     },
     "execution_count": 8,
     "metadata": {},
     "output_type": "execute_result"
    }
   ],
   "source": [
    "initialise_data()\n",
    "len(drugs_names)"
   ]
  },
  {
   "cell_type": "code",
   "execution_count": 9,
   "metadata": {},
   "outputs": [],
   "source": [
    " def find_Drug_Name(word):\n",
    "        \n",
    "        max_score=0.0\n",
    "        output_drug=\"\"\n",
    "        for i in range(len(drugs_names)):\n",
    "            curr_score=fuzz.token_set_ratio(word,drugs_names[i])\n",
    "            if(curr_score > max_score):\n",
    "                max_score=curr_score\n",
    "                output_drug=drugs_names[i]\n",
    "                \n",
    "        output=[output_drug,max_score]\n",
    "        return output"
   ]
  },
  {
   "cell_type": "code",
   "execution_count": 10,
   "metadata": {},
   "outputs": [
    {
     "name": "stdout",
     "output_type": "stream",
     "text": [
      "Biperiden 67\n",
      "Estradiol 67\n",
      "Paricalcitol 57\n",
      "Ibandronate 56\n",
      "Tramadol 75\n"
     ]
    }
   ],
   "source": [
    "drugs=[\"Piparidem\",\"Cslradiot\",\"Paryalida\",\"badofam\",\"Tronadol\"]\n",
    "for i in range(len(drugs)):\n",
    "    output=find_Drug_Name(drugs[i])\n",
    "    print(output[0],output[1])"
   ]
  },
  {
   "cell_type": "code",
   "execution_count": null,
   "metadata": {},
   "outputs": [],
   "source": []
  }
 ],
 "metadata": {
  "kernelspec": {
   "display_name": "Python 3",
   "language": "python",
   "name": "python3"
  },
  "language_info": {
   "codemirror_mode": {
    "name": "ipython",
    "version": 3
   },
   "file_extension": ".py",
   "mimetype": "text/x-python",
   "name": "python",
   "nbconvert_exporter": "python",
   "pygments_lexer": "ipython3",
   "version": "3.6.8"
  }
 },
 "nbformat": 4,
 "nbformat_minor": 2
}
