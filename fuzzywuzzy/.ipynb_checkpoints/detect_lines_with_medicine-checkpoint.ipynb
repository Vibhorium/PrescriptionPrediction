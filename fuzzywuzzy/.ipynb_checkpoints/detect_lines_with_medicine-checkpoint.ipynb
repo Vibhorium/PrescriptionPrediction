{
 "cells": [
  {
   "cell_type": "code",
   "execution_count": 15,
   "metadata": {
    "scrolled": true
   },
   "outputs": [],
   "source": [
    "# run this only when running this notebook alone\n",
    "#%run fuzzy_matching.ipynb"
   ]
  },
  {
   "cell_type": "code",
   "execution_count": 8,
   "metadata": {},
   "outputs": [],
   "source": [
    "parameter_of_selection = 50"
   ]
  },
  {
   "cell_type": "code",
   "execution_count": 3,
   "metadata": {},
   "outputs": [],
   "source": [
    "#Sample Input\n",
    "scanned_lines=[\n",
    "    \"Syp. Paracetamol x3d OD\",\n",
    "    \"Tab. Combiflam twice a day for 5 days\",\n",
    "]"
   ]
  },
  {
   "cell_type": "code",
   "execution_count": 11,
   "metadata": {},
   "outputs": [],
   "source": [
    "def detect_lines_with_medicine(scanned_lines):\n",
    "    output=[]\n",
    "    for line in scanned_lines:\n",
    "        words = line.split(' ')\n",
    "#         print(words)\n",
    "        curr_best_score=0\n",
    "        curr_best_word=\"NA\"\n",
    "        for word in words:\n",
    "            out = find_Drug_Name(word)\n",
    "#             print(out[0], \"...\", out[1])\n",
    "            if (out[1] >= curr_best_score):\n",
    "                curr_best_score=out[1]\n",
    "                curr_best_word = out[0]\n",
    "        if(curr_best_score > parameter_of_selection):\n",
    "            output.append([line, curr_best_word, curr_best_score])            \n",
    "    return output"
   ]
  },
  {
   "cell_type": "code",
   "execution_count": 12,
   "metadata": {},
   "outputs": [
    {
     "data": {
      "text/plain": [
       "[['Syp. Paracetamol x3d OD', 'Paricalcitol', 70],\n",
       " ['Tab. Combiflam twice a day for 5 days', 'Clobazam', 59],\n",
       " ['Cap. Paracetamol bid', 'Paricalcitol', 70],\n",
       " ['Cap. Paracetamol td', 'Paricalcitol', 70],\n",
       " ['Tab. Paracetamol qd', 'Paricalcitol', 70],\n",
       " ['Tab. Paracetamol empty stomach', 'Paricalcitol', 70],\n",
       " ['Tab. Paracetamol x3 wks after meals thrice a day', 'Paricalcitol', 70],\n",
       " ['Tab. Paracetamol MWF OD', 'Paricalcitol', 70],\n",
       " ['Cap. Paracetamol before bed', 'Paricalcitol', 70],\n",
       " ['Syp. Paracetamol once a week for 8 wks', 'Paricalcitol', 70],\n",
       " ['Tab. Paracetamol every night for 7 d', 'Paricalcitol', 70]]"
      ]
     },
     "execution_count": 12,
     "metadata": {},
     "output_type": "execute_result"
    }
   ],
   "source": [
    "detect_lines_with_medicine(scanned_lines)"
   ]
  }
 ],
 "metadata": {
  "kernelspec": {
   "display_name": "Python 3",
   "language": "python",
   "name": "python3"
  },
  "language_info": {
   "codemirror_mode": {
    "name": "ipython",
    "version": 3
   },
   "file_extension": ".py",
   "mimetype": "text/x-python",
   "name": "python",
   "nbconvert_exporter": "python",
   "pygments_lexer": "ipython3",
   "version": "3.6.8"
  }
 },
 "nbformat": 4,
 "nbformat_minor": 2
}
