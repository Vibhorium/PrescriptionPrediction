{
 "cells": [
  {
   "cell_type": "code",
   "execution_count": 16,
   "metadata": {
    "scrolled": true
   },
   "outputs": [
    {
     "name": "stderr",
     "output_type": "stream",
     "text": [
      "fuzzy_matching.ipynb:1: FutureWarning: read_table is deprecated, use read_csv instead.\n",
      "  {\n",
      "fuzzy_matching.ipynb:2: FutureWarning: read_table is deprecated, use read_csv instead.\n",
      "  \"cells\": [\n",
      "fuzzy_matching.ipynb:3: FutureWarning: read_table is deprecated, use read_csv instead.\n",
      "  {\n",
      "fuzzy_matching.ipynb:4: FutureWarning: read_table is deprecated, use read_csv instead.\n",
      "  \"cell_type\": \"code\",\n",
      "fuzzy_matching.ipynb:5: FutureWarning: read_table is deprecated, use read_csv instead.\n",
      "  \"execution_count\": 2,\n",
      "fuzzy_matching.ipynb:6: FutureWarning: read_table is deprecated, use read_csv instead.\n",
      "  \"metadata\": {},\n"
     ]
    },
    {
     "name": "stdout",
     "output_type": "stream",
     "text": [
      "Biperiden 67\n",
      "Estradiol 67\n",
      "Paricalcitol 57\n",
      "Ibandronate 56\n",
      "Tramadol 75\n"
     ]
    }
   ],
   "source": [
    "# run this only when running this notebook alone\n",
    "%run fuzzy_matching.ipynb"
   ]
  },
  {
   "cell_type": "code",
   "execution_count": 17,
   "metadata": {},
   "outputs": [],
   "source": [
    "parameter_of_selection = 50"
   ]
  },
  {
   "cell_type": "code",
   "execution_count": 24,
   "metadata": {},
   "outputs": [],
   "source": [
    "#Sample Input\n",
    "scanned_lines=[\n",
    "    \"Syp. Cetrezeine x3d OD\",\n",
    "    \"Tab. Ofloxocim twice a day for 5 days\",\n",
    "]"
   ]
  },
  {
   "cell_type": "code",
   "execution_count": 25,
   "metadata": {},
   "outputs": [],
   "source": [
    "def detect_lines_with_medicine(scanned_lines):\n",
    "    output=[]\n",
    "    for line in scanned_lines:\n",
    "        words = line.split(' ')\n",
    "#         print(words)\n",
    "        curr_best_score=0\n",
    "        curr_best_match=\"NA\"\n",
    "        curr_word_to_be_replaced =\"\"\n",
    "        for word in words:\n",
    "            out = find_Drug_Name(word)\n",
    "#             print(out[0], \"...\", out[1])\n",
    "            if (out[1] >= curr_best_score):\n",
    "                curr_best_score=out[1]\n",
    "                curr_best_match = out[0]\n",
    "                curr_word_to_be_replaced = word\n",
    "        if(curr_best_score > parameter_of_selection):\n",
    "            line = line.replace(curr_word_to_be_replaced, curr_best_match)\n",
    "            output.append([line, curr_best_match, curr_best_score])            \n",
    "    return output"
   ]
  },
  {
   "cell_type": "code",
   "execution_count": 26,
   "metadata": {},
   "outputs": [
    {
     "data": {
      "text/plain": [
       "[['Syp. Cetirizine x3d OD', 'Cetirizine', 80],\n",
       " ['Tab. Ofloxacin twice a day for 5 days', 'Ofloxacin', 78]]"
      ]
     },
     "execution_count": 26,
     "metadata": {},
     "output_type": "execute_result"
    }
   ],
   "source": [
    "detect_lines_with_medicine(scanned_lines)"
   ]
  }
 ],
 "metadata": {
  "kernelspec": {
   "display_name": "Python 3",
   "language": "python",
   "name": "python3"
  },
  "language_info": {
   "codemirror_mode": {
    "name": "ipython",
    "version": 3
   },
   "file_extension": ".py",
   "mimetype": "text/x-python",
   "name": "python",
   "nbconvert_exporter": "python",
   "pygments_lexer": "ipython3",
   "version": "3.6.8"
  }
 },
 "nbformat": 4,
 "nbformat_minor": 2
}
