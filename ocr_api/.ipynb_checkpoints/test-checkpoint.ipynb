{
 "cells": [
  {
   "cell_type": "code",
   "execution_count": 4,
   "metadata": {},
   "outputs": [
    {
     "data": {
      "text/plain": [
       "0"
      ]
     },
     "execution_count": 4,
     "metadata": {},
     "output_type": "execute_result"
    }
   ],
   "source": [
    "import os\n",
    "os.system(\"set GOOGLE_APPLICATION_CREDENTIALS = F:\\sem 7\\project\\PrescriptionPrediction\\PrescriptionPrediction\\ocr_api\\api-key.json\")"
   ]
  },
  {
   "cell_type": "code",
   "execution_count": 7,
   "metadata": {},
   "outputs": [],
   "source": [
    "# To run this always set GOOGLE_APPLICATION_CREDENTIALS on the same anaconda prompt first\n",
    "def detect_document(path):\n",
    "    \"\"\"Detects document features in an image.\"\"\"\n",
    "    from google.cloud import vision\n",
    "    import io\n",
    "    client = vision.ImageAnnotatorClient.from_service_account_json(\"F:\\sem 7\\project\\PrescriptionPrediction\\PrescriptionPrediction\\ocr_api\\api-key.json\")\n",
    "    \n",
    "#     client = vision.Client.from_service_account_json(\n",
    "        'service_account.json')\n",
    "\n",
    "    with io.open(path, 'rb') as image_file:\n",
    "        content = image_file.read()\n",
    "\n",
    "    image = vision.types.Image(content=content)\n",
    "\n",
    "    response = client.document_text_detection(image=image)\n",
    "\n",
    "    for page in response.full_text_annotation.pages:\n",
    "        for block in page.blocks:\n",
    "            print('\\nBlock confidence: {}\\n'.format(block.confidence))\n",
    "\n",
    "            for paragraph in block.paragraphs:\n",
    "                print('Paragraph confidence: {}'.format(\n",
    "                    paragraph.confidence))\n",
    "\n",
    "                for word in paragraph.words:\n",
    "                    word_text = ''.join([\n",
    "                        symbol.text for symbol in word.symbols\n",
    "                    ])\n",
    "                    print('Word text: {} (confidence: {})'.format(\n",
    "                        word_text, word.confidence))\n",
    "\n",
    "                    for symbol in word.symbols:\n",
    "                        print('\\tSymbol: {} (confidence: {})'.format(\n",
    "                            symbol.text, symbol.confidence))"
   ]
  },
  {
   "cell_type": "code",
   "execution_count": 8,
   "metadata": {},
   "outputs": [
    {
     "ename": "AttributeError",
     "evalue": "module 'google.cloud.vision' has no attribute 'Client'",
     "output_type": "error",
     "traceback": [
      "\u001b[1;31m---------------------------------------------------------------------------\u001b[0m",
      "\u001b[1;31mAttributeError\u001b[0m                            Traceback (most recent call last)",
      "\u001b[1;32m<ipython-input-8-2a86b151e35f>\u001b[0m in \u001b[0;36m<module>\u001b[1;34m\u001b[0m\n\u001b[1;32m----> 1\u001b[1;33m \u001b[0mdetect_document\u001b[0m\u001b[1;33m(\u001b[0m\u001b[1;34m\"test_img1.jpeg\"\u001b[0m\u001b[1;33m)\u001b[0m\u001b[1;33m\u001b[0m\u001b[1;33m\u001b[0m\u001b[0m\n\u001b[0m",
      "\u001b[1;32m<ipython-input-7-fae88a728015>\u001b[0m in \u001b[0;36mdetect_document\u001b[1;34m(path)\u001b[0m\n\u001b[0;32m      6\u001b[0m \u001b[1;31m#     client = vision.ImageAnnotatorClient()\u001b[0m\u001b[1;33m\u001b[0m\u001b[1;33m\u001b[0m\u001b[1;33m\u001b[0m\u001b[0m\n\u001b[0;32m      7\u001b[0m \u001b[1;33m\u001b[0m\u001b[0m\n\u001b[1;32m----> 8\u001b[1;33m     client = vision.Client.from_service_account_json(\n\u001b[0m\u001b[0;32m      9\u001b[0m         'service_account.json')\n\u001b[0;32m     10\u001b[0m \u001b[1;33m\u001b[0m\u001b[0m\n",
      "\u001b[1;31mAttributeError\u001b[0m: module 'google.cloud.vision' has no attribute 'Client'"
     ]
    }
   ],
   "source": [
    "detect_document(\"test_img1.jpeg\")"
   ]
  }
 ],
 "metadata": {
  "kernelspec": {
   "display_name": "Python 3",
   "language": "python",
   "name": "python3"
  },
  "language_info": {
   "codemirror_mode": {
    "name": "ipython",
    "version": 3
   },
   "file_extension": ".py",
   "mimetype": "text/x-python",
   "name": "python",
   "nbconvert_exporter": "python",
   "pygments_lexer": "ipython3",
   "version": "3.6.8"
  }
 },
 "nbformat": 4,
 "nbformat_minor": 2
}
