{
 "cells": [
  {
   "cell_type": "code",
   "execution_count": 11,
   "metadata": {},
   "outputs": [],
   "source": [
    "from fuzzywuzzy import fuzz\n",
    "from fuzzywuzzy import process\n",
    "import pandas as pd"
   ]
  },
  {
   "cell_type": "code",
   "execution_count": 12,
   "metadata": {},
   "outputs": [],
   "source": [
    "data=pd.read_table(\"TrainA.csv\",sep=',')\n",
    "data1=pd.read_table(\"drugsComTrain_raw.tsv\",sep='\\t')\n",
    "data2=pd.read_table(\"drugsComTest_raw.tsv\",sep='\\t')"
   ]
  },
  {
   "cell_type": "code",
   "execution_count": 13,
   "metadata": {},
   "outputs": [],
   "source": [
    "symptoms=[]\n",
    "for col in data.columns:\n",
    "    symptoms.append(col) "
   ]
  },
  {
   "cell_type": "code",
   "execution_count": 14,
   "metadata": {},
   "outputs": [],
   "source": [
    "threshold_score=66.0\n",
    "def symptoms_fuzzy_matcher(words):\n",
    "    predicted_symptoms=[]\n",
    "    for i in range(len(words)):\n",
    "        best_score=0.0\n",
    "        predicted_word=\"\"\n",
    "        for j in range(len(symptoms)):\n",
    "            curr_score=fuzz.token_set_ratio(words[i],symptoms[j])\n",
    "            if(curr_score>best_score):\n",
    "                best_score=curr_score\n",
    "                predicted_word=symptoms[j]\n",
    "        if(best_score>threshold_score):\n",
    "            if predicted_word not in predicted_symptoms :\n",
    "                predicted_symptoms.append(predicted_word)\n",
    "        \n",
    "    return(predicted_symptoms)"
   ]
  },
  {
   "cell_type": "code",
   "execution_count": 15,
   "metadata": {},
   "outputs": [],
   "source": [
    "def find_diseases(predicted_symptoms):\n",
    "    predicted_diseases=[]\n",
    "    for i in range(len(predicted_symptoms)):\n",
    "        for j in range(len(data)):\n",
    "            if(data.at[j,predicted_symptoms[i]]==1):\n",
    "                if data.at[j,\"prognosis\"] not in predicted_diseases:\n",
    "                    predicted_diseases.append(data.at[j,\"prognosis\"])\n",
    "        \n",
    "    return predicted_diseases    "
   ]
  },
  {
   "cell_type": "code",
   "execution_count": 16,
   "metadata": {},
   "outputs": [
    {
     "name": "stdout",
     "output_type": "stream",
     "text": [
      "['nodal_skin_eruptions', 'fatigue']\n",
      "['Fungal infection', 'Diabetes ', 'Bronchial Asthma', 'Jaundice', 'Chicken pox', 'Dengue', 'Typhoid', 'Hepatitis B', 'Hepatitis C', 'Hepatitis D', 'Hepatitis E', 'Tuberculosis', 'Common Cold', 'Pneumonia', 'Varicose veins', 'Hypothyroidism', 'Hyperthyroidism', 'Hypoglycemia']\n"
     ]
    }
   ],
   "source": [
    "words=['doctor','betadine','modal_skin_erudtions','fatizue','age']\n",
    "predicted_symptoms=symptoms_fuzzy_matcher(words)\n",
    "print(predicted_symptoms)\n",
    "predicted_diseases=find_diseases(predicted_symptoms)\n",
    "print(predicted_diseases)"
   ]
  },
  {
   "cell_type": "code",
   "execution_count": 17,
   "metadata": {},
   "outputs": [],
   "source": [
    "filter1=data1[data1['condition'].isin(predicted_diseases)]\n",
    "filter2=data2[data2['condition'].isin(predicted_diseases)]"
   ]
  },
  {
   "cell_type": "code",
   "execution_count": 18,
   "metadata": {},
   "outputs": [],
   "source": [
    "drugs_names1=filter1[\"drugName\"].tolist()\n",
    "drugs_names2=filter2[\"drugName\"].tolist()\n",
    "drugs_names=[]\n",
    "for i in range(len(drugs_names1)):\n",
    "    drugs_names.append(drugs_names1[i])\n",
    "for i in range(len(drugs_names2)):\n",
    "    drugs_names.append(drugs_names2[i])"
   ]
  },
  {
   "cell_type": "code",
   "execution_count": 19,
   "metadata": {},
   "outputs": [],
   "source": [
    " def find_Drug_Name(word):\n",
    "        \n",
    "        max_score=0.0\n",
    "        output_drug=\"\"\n",
    "        for i in range(len(drugs_names)):\n",
    "            curr_score=fuzz.token_set_ratio(word,drugs_names[i])\n",
    "            if(curr_score > max_score):\n",
    "                max_score=curr_score\n",
    "                output_drug=drugs_names[i]\n",
    "                \n",
    "        output=[output_drug,max_score]\n",
    "        return output"
   ]
  },
  {
   "cell_type": "code",
   "execution_count": 20,
   "metadata": {},
   "outputs": [
    {
     "name": "stdout",
     "output_type": "stream",
     "text": [
      "Epclusa 86\n",
      "Sofosbuvir 90\n",
      "Diazoxide 50\n",
      "Gemifloxacin 64\n",
      "Victrelis 62\n"
     ]
    }
   ],
   "source": [
    "drugs=[\"Edclusa\",\"Sofosbuwir\",\"Dutaglutide\",\"Emdagtiflozin\",\"Victoze\"]\n",
    "for i in range(len(drugs)):\n",
    "    output=find_Drug_Name(drugs[i])\n",
    "    print(output[0],output[1])"
   ]
  }
 ],
 "metadata": {
  "kernelspec": {
   "display_name": "Python 3",
   "language": "python",
   "name": "python3"
  },
  "language_info": {
   "codemirror_mode": {
    "name": "ipython",
    "version": 3
   },
   "file_extension": ".py",
   "mimetype": "text/x-python",
   "name": "python",
   "nbconvert_exporter": "python",
   "pygments_lexer": "ipython3",
   "version": "3.7.1"
  }
 },
 "nbformat": 4,
 "nbformat_minor": 2
}
