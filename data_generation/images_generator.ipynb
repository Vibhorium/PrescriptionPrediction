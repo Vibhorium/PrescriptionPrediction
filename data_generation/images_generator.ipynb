{
 "cells": [
  {
   "cell_type": "code",
   "execution_count": 1,
   "metadata": {},
   "outputs": [],
   "source": [
    "#input images lie in the \"input\" folder\n",
    "#each image is named with label of the class to which it belongs\n",
    "#to generate folders of each class in \"output\" folder, having all images cropped out from input folder of that class"
   ]
  },
  {
   "cell_type": "code",
   "execution_count": 14,
   "metadata": {},
   "outputs": [],
   "source": [
    "import os\n",
    "from PIL import Image"
   ]
  },
  {
   "cell_type": "code",
   "execution_count": 15,
   "metadata": {},
   "outputs": [],
   "source": [
    "input_path = \"input\"\n",
    "output_path=\"output\""
   ]
  },
  {
   "cell_type": "code",
   "execution_count": 4,
   "metadata": {},
   "outputs": [],
   "source": [
    "width = 75\n",
    "height = 250"
   ]
  },
  {
   "cell_type": "code",
   "execution_count": 17,
   "metadata": {},
   "outputs": [
    {
     "name": "stdout",
     "output_type": "stream",
     "text": [
      "F:\\sem 7\\project\\PrescriptionPrediction\\PrescriptionPrediction\\data_generation\n",
      "1a.jpg 1a\n",
      "632 1124\n",
      "1b.jpg 1b\n",
      "652 1164\n",
      "2a.jpg 2a\n",
      "652 1160\n",
      "2b.jpg 2b\n",
      "556 1016\n",
      "3a.jpg 3a\n",
      "476 840\n",
      "3b.jpg 3b\n",
      "488 880\n"
     ]
    }
   ],
   "source": [
    "print(os.getcwd())\n",
    "input_images = os.listdir(input_path)\n",
    "for input_file in input_images:\n",
    "    label = input_file.split('.')[0]\n",
    "    os.mkdir(output_path+\"/\"+label)\n",
    "    print(input_file, label)\n",
    "    img = Image.open(input_path + \"/\" + input_file)\n",
    "    W,H =img.size\n",
    "    print(W, H)\n",
    "    width = W//2\n",
    "    height = H//12\n",
    "    counter=0\n",
    "    for i in range(0, W, width):\n",
    "        for j in range(0, H, height):\n",
    "            new_img = img.crop((i, j, i+width, j+height))\n",
    "            new_img.save(output_path + \"/\" + label + \"/\" +str(counter) + \".png\")\n",
    "            counter+=1"
   ]
  },
  {
   "cell_type": "code",
   "execution_count": null,
   "metadata": {},
   "outputs": [],
   "source": []
  }
 ],
 "metadata": {
  "kernelspec": {
   "display_name": "Python 3",
   "language": "python",
   "name": "python3"
  },
  "language_info": {
   "codemirror_mode": {
    "name": "ipython",
    "version": 3
   },
   "file_extension": ".py",
   "mimetype": "text/x-python",
   "name": "python",
   "nbconvert_exporter": "python",
   "pygments_lexer": "ipython3",
   "version": "3.6.8"
  }
 },
 "nbformat": 4,
 "nbformat_minor": 2
}
