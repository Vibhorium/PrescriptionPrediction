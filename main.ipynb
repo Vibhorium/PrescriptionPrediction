{
 "cells": [
  {
   "cell_type": "code",
   "execution_count": 1,
   "metadata": {},
   "outputs": [],
   "source": [
    "# Taking image as input"
   ]
  },
  {
   "cell_type": "code",
   "execution_count": 3,
   "metadata": {},
   "outputs": [],
   "source": [
    "# Removing noise, improving contrast"
   ]
  },
  {
   "cell_type": "code",
   "execution_count": 4,
   "metadata": {},
   "outputs": [],
   "source": [
    "# Doing line segmentation"
   ]
  },
  {
   "cell_type": "code",
   "execution_count": 5,
   "metadata": {},
   "outputs": [],
   "source": [
    "# Doing word segmentation"
   ]
  },
  {
   "cell_type": "code",
   "execution_count": 6,
   "metadata": {},
   "outputs": [],
   "source": [
    "# Prediciting words line-by-line"
   ]
  },
  {
   "cell_type": "code",
   "execution_count": 13,
   "metadata": {},
   "outputs": [],
   "source": [
    "# Passing these lines to filter those lines which contain a medicine (Fuzzy match) to produce correct medicine name\n",
    "# Input = array of strings (all lines detected) , Output = array of strings which have a drug in them"
   ]
  },
  {
   "cell_type": "code",
   "execution_count": 14,
   "metadata": {},
   "outputs": [],
   "source": [
    "# Making schedule of the medicine using NLP"
   ]
  },
  {
   "cell_type": "code",
   "execution_count": null,
   "metadata": {},
   "outputs": [],
   "source": [
    "#Displaying each medicine with their Schedule"
   ]
  },
  {
   "cell_type": "code",
   "execution_count": 11,
   "metadata": {},
   "outputs": [],
   "source": [
    "class DailyFrequency:\n",
    "    empty_stomach = False,\n",
    "    morning = False,\n",
    "    afternoon = False,\n",
    "    evening = False,\n",
    "    night = False\n",
    "    def __init(self, EmptyStomach, Morning, Afternoon, Evening, Night):\n",
    "        self.empty_stomach= EmptyStomach\n",
    "        self.morning = Morning\n",
    "        self.afternoon = Afternoon\n",
    "        self.evening = Evening\n",
    "        self.night = Night\n",
    "    \n",
    "\n",
    "class MedSchedule:\n",
    "    medicine_name = \"NA\",\n",
    "    till_x_days = \"100000\", #default is infinite\n",
    "    specifications = 0,  # 0 = no specifications, 1 = before meal, 2 = after meal\n",
    "    weekly_frequency = 0, #0=daily, 1= alternate days, 2= twice a week, 3 = once a week\n",
    "    daily_frequency = DailyFrequency()\n",
    "    \n",
    "    def __init__(self, MedicineName, TillXDays, Specifications, WeeklyFrequency, EmptyStomach, Morning, Afternoon, Evening, Night):\n",
    "        self.medicine_name = MedicineName\n",
    "        self.till_x_days = TillXDays\n",
    "        self.specifications = Specifications\n",
    "        self.weekly_frequency = WeeklyFrequency\n",
    "        self.daily_frequency = DailyFrequency(EmptyStomach, Morning, Afternoon, Evening, Night)"
   ]
  }
 ],
 "metadata": {
  "kernelspec": {
   "display_name": "Python 3",
   "language": "python",
   "name": "python3"
  },
  "language_info": {
   "codemirror_mode": {
    "name": "ipython",
    "version": 3
   },
   "file_extension": ".py",
   "mimetype": "text/x-python",
   "name": "python",
   "nbconvert_exporter": "python",
   "pygments_lexer": "ipython3",
   "version": "3.6.8"
  }
 },
 "nbformat": 4,
 "nbformat_minor": 2
}
