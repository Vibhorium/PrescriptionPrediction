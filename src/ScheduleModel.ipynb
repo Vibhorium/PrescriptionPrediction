{
 "cells": [
  {
   "cell_type": "code",
   "execution_count": 19,
   "metadata": {},
   "outputs": [],
   "source": [
    "class DailyFrequency:\n",
    "    empty_stomach = False,\n",
    "    morning = False,\n",
    "    afternoon = False,\n",
    "    evening = False,\n",
    "    night = False\n",
    "    def __init(self, EmptyStomach=False, Morning=False, Afternoon=False, Evening=False, Night=False):\n",
    "        self.empty_stomach= EmptyStomach\n",
    "        self.morning = Morning\n",
    "        self.afternoon = Afternoon\n",
    "        self.evening = Evening\n",
    "        self.night = Night"
   ]
  },
  {
   "cell_type": "code",
   "execution_count": 22,
   "metadata": {},
   "outputs": [],
   "source": [
    "class MedSchedule:\n",
    "    medicine_name = \"NA\",\n",
    "    till_x_days = 100000, #default is infinite days\n",
    "    specifications = 0,  # 0 = no specifications, 1 = before meal, 2 = after meal\n",
    "    weekly_frequency = -1, #0=daily, 1= alternate days, 2= twice a week, 3 = once a week\n",
    "    Sos = False #true when the medicine is to be taken only on emergency\n",
    "    daily_frequency = DailyFrequency()\n",
    "    \n",
    "    def __init__(self, MedicineName=False, TillXDays=100000, Specifications=0, WeeklyFrequency=-1):\n",
    "        self.medicine_name = MedicineName\n",
    "        self.till_x_days = TillXDays\n",
    "        self.specifications = Specifications\n",
    "        self.weekly_frequency = WeeklyFrequency\n",
    "        self.Sos = False\n",
    "        self.daily_frequency = DailyFrequency()\n",
    "    \n",
    "    def printSchedule(self):\n",
    "        print(\"Medicine Name: \", self.medicine_name)\n",
    "        \n",
    "        if(self.Sos == True):\n",
    "            print(\"SOS only\")\n",
    "        \n",
    "        if (self.till_x_days != 100000):\n",
    "            print(\"Till \", self.till_x_days, \"Days\")\n",
    "        \n",
    "        if (self.weekly_frequency == 0):\n",
    "            print(\"To be taken : Daily\" )\n",
    "        elif (self.weekly_frequency == 1):\n",
    "            print(\"To be taken : On alternate days\" )\n",
    "        elif (self.weekly_frequency == 2):\n",
    "            print(\"To be taken : Once a week\" )\n",
    "        elif (self.weekly_frequency == 3):\n",
    "            print(\"To be taken : Twice a week\" )\n",
    "            \n",
    "        print(\"Daily Schedule: -> \")\n",
    "        print(\"Empty Stomach: \", self.daily_frequency.empty_stomach)\n",
    "        print(\"Morning: \", self.daily_frequency.morning)\n",
    "        print(\"Afternoon: \", self.daily_frequency.afternoon)\n",
    "        print(\"Evening: \", self.daily_frequency.evening)\n",
    "        print(\"Night: \", self.daily_frequency.night)\n",
    "        \n",
    "        if (self.specifications == 2):\n",
    "            print(\"Specifcations : After Meal\" )\n",
    "        elif (self.specifications == 1):\n",
    "            print(\"Specifcations : Before Meal\" )\n",
    "        print(\"--------------------------------------\")\n"
   ]
  }
 ],
 "metadata": {
  "kernelspec": {
   "display_name": "Python 3",
   "language": "python",
   "name": "python3"
  },
  "language_info": {
   "codemirror_mode": {
    "name": "ipython",
    "version": 3
   },
   "file_extension": ".py",
   "mimetype": "text/x-python",
   "name": "python",
   "nbconvert_exporter": "python",
   "pygments_lexer": "ipython3",
   "version": "3.6.8"
  }
 },
 "nbformat": 4,
 "nbformat_minor": 2
}
