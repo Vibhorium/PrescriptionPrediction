{
 "cells": [
  {
   "cell_type": "code",
   "execution_count": null,
   "metadata": {},
   "outputs": [],
   "source": [
    "from __future__ import division\n",
    "from __future__ import print_function\n",
    "\n",
    "import sys\n",
    "import argparse\n",
    "import cv2\n",
    "import editdistance\n",
    "from DataLoader import DataLoader, Batch\n",
    "from Model import Model, DecoderType\n",
    "from SamplePreprocessor import preprocess\n",
    "import os\n",
    "import numpy as np\n",
    "from PIL import Image\n",
    "from WordSegmentation import wordSegmentation, prepareImg"
   ]
  },
  {
   "cell_type": "code",
   "execution_count": null,
   "metadata": {},
   "outputs": [],
   "source": [
    "# Doing line segmentation\n",
    "linewise_strings=[]\n",
    "# import image\n",
    "def getsegmented(path):\n",
    "    image = cv2.imread(path)\n",
    "    # cv2.imshow('orig',image)\n",
    "    # cv2.waitKey(0)\n",
    "\n",
    "    # grayscale\n",
    "    gray = cv2.cvtColor(image, cv2.COLOR_BGR2GRAY)\n",
    "    # cv2.imshow('gray',gray)\n",
    "    cv2.waitKey(0)\n",
    "\n",
    "    # binary\n",
    "    ret, thresh = cv2.threshold(gray, 127, 255, cv2.THRESH_BINARY_INV)\n",
    "    # cv2.imshow('second',thresh)\n",
    "    cv2.waitKey(0)\n",
    "\n",
    "    # dilation\n",
    "    kernel = np.ones((5, 100), np.uint8)\n",
    "    img_dilation = cv2.dilate(thresh, kernel, iterations=1)\n",
    "    # cv2.imshow('dilated',img_dilation)\n",
    "    cv2.waitKey(0)\n",
    "\n",
    "    # find contours\n",
    "    ctrs, hier = cv2.findContours(img_dilation.copy(), cv2.RETR_EXTERNAL, cv2.CHAIN_APPROX_SIMPLE)\n",
    "\n",
    "    # sort contours\n",
    "    sorted_ctrs = sorted(ctrs, key=lambda ctr: cv2.boundingRect(ctr)[0])\n",
    "    line_imgs = []\n",
    "    line_path = '../data2/'\n",
    "    img2=image\n",
    "    for i, ctr in enumerate(sorted_ctrs):\n",
    "        # Get bounding box\n",
    "        x, y, w, h = cv2.boundingRect(ctr)\n",
    "\n",
    "        # Getting ROI\n",
    "        roi = image[y:y + h , x:x + w]\n",
    "        line_imgs.append(roi)\n",
    "        filename = str(i) + '.png'\n",
    "        cv2.imwrite(line_path + filename, roi)\n",
    "        # show ROI\n",
    "        # cv2.imshow('segment no:'+str(i),roi)\n",
    "        cv2.rectangle(img2, (x, y), (x + w, y + h), (90, 0, 255), 2)\n",
    "        cv2.waitKey(0)\n",
    "\n",
    "    cv2.imshow('marked areas', img2)\n",
    "    cv2.imwrite('../segmented_fullimg/'+path[-8:],img2)\n",
    "    cv2.waitKey(0)\n",
    "    return line_imgs"
   ]
  }
 ],
 "metadata": {
  "kernelspec": {
   "display_name": "Python 3",
   "language": "python",
   "name": "python3"
  },
  "language_info": {
   "codemirror_mode": {
    "name": "ipython",
    "version": 3
   },
   "file_extension": ".py",
   "mimetype": "text/x-python",
   "name": "python",
   "nbconvert_exporter": "python",
   "pygments_lexer": "ipython3",
   "version": "3.6.8"
  }
 },
 "nbformat": 4,
 "nbformat_minor": 2
}
