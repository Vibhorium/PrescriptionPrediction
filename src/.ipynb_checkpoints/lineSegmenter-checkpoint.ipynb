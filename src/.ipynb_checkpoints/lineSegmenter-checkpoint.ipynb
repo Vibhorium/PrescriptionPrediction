{
 "cells": [
  {
   "cell_type": "code",
   "execution_count": 6,
   "metadata": {},
   "outputs": [],
   "source": [
    "input_line = \"Mr . Gill / M / 294 - Cold , cough , body pain Tab Cetrizine Bedtime o o Tab Ofloxacin sos 000 Tab Calcitrol once a week 3d o\""
   ]
  },
  {
   "cell_type": "code",
   "execution_count": 2,
   "metadata": {},
   "outputs": [],
   "source": [
    "first_words = [\"Tab\", \"Cap\", \"Syp\",\"Tab.\",\"Tabs\", \"Cap.\", \"Syp.\",\"Tablet\",\"Tablets\" \"Capsule\",\"Capsules\" \"Syrup\" ]"
   ]
  },
  {
   "cell_type": "code",
   "execution_count": 16,
   "metadata": {},
   "outputs": [],
   "source": [
    "def lineSegmenter(input_line):\n",
    "    output=[]\n",
    "    \n",
    "    curr_line = \"\"\n",
    "    for word in input_line.split(' '):\n",
    "        if word in first_words:\n",
    "            output.append(curr_line)\n",
    "            curr_line=\"\"\n",
    "        curr_line += word +\" \"\n",
    "            \n",
    "    return output"
   ]
  },
  {
   "cell_type": "code",
   "execution_count": 17,
   "metadata": {},
   "outputs": [
    {
     "data": {
      "text/plain": [
       "['Mr . Gill / M / 294 - Cold , cough , body pain ',\n",
       " 'Tab Cetrizine Bedtime o o ',\n",
       " 'Tab Ofloxacin sos 000 ']"
      ]
     },
     "execution_count": 17,
     "metadata": {},
     "output_type": "execute_result"
    }
   ],
   "source": [
    "lineSegmenter(input_line)"
   ]
  }
 ],
 "metadata": {
  "kernelspec": {
   "display_name": "Python 3",
   "language": "python",
   "name": "python3"
  },
  "language_info": {
   "codemirror_mode": {
    "name": "ipython",
    "version": 3
   },
   "file_extension": ".py",
   "mimetype": "text/x-python",
   "name": "python",
   "nbconvert_exporter": "python",
   "pygments_lexer": "ipython3",
   "version": "3.6.8"
  }
 },
 "nbformat": 4,
 "nbformat_minor": 2
}
