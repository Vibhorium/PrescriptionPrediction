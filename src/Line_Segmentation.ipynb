{
 "cells": [
  {
   "cell_type": "code",
   "execution_count": null,
   "metadata": {},
   "outputs": [],
   "source": [
    "from __future__ import division\n",
    "from __future__ import print_function\n",
    "\n",
    "import sys\n",
    "import argparse\n",
    "import cv2\n",
    "import editdistance\n",
    "from DataLoader import DataLoader, Batch\n",
    "from Model import Model, DecoderType\n",
    "from SamplePreprocessor import preprocess\n",
    "import os\n",
    "import numpy as np\n",
    "from PIL import Image\n",
    "from WordSegmentation import wordSegmentation, prepareImg"
   ]
  },
  {
   "cell_type": "code",
   "execution_count": null,
   "metadata": {},
   "outputs": [],
   "source": [
    "# Doing word segmentation\n",
    "imgFiles = os.listdir('../data2/')\n",
    "segmented_files = os.listdir('../out/')\n",
    "def lsegment():\n",
    "    \"\"\"reads images from data/ and outputs the word-segmentation to out/\"\"\"\n",
    "\n",
    "    # read input images from 'in' directory\n",
    "    print(imgFiles)\n",
    "    for (i, f) in enumerate(imgFiles):\n",
    "        # read image, prepare it by resizing it to fixed height and converting it to grayscale\n",
    "        img = cv2.imread('../data2/' + f)\n",
    "        print(img.shape)\n",
    "        h = img.shape[0]\n",
    "        w = img.shape[1]\n",
    "        #if ((w / h) < 6):\n",
    "        #   continue\n",
    "        print(f)\n",
    "        print('Segmenting words of sample %s' % f)\n",
    "        # img=convInputImg(img)\n",
    "        img2 = prepareImg(cv2.imread('../data2/%s' % f), 50)\n",
    "        img = convInputImg(img2)\n",
    "        # img=convInputImg2(img)\n",
    "        # cv2.imshow('hello',img)\n",
    "        # execute segmentation with given parameters\n",
    "        # -kernelSize: size of filter kernel (odd integer)\n",
    "        # -sigma: standard deviation of Gaussian function used for filter kernel\n",
    "        # -theta: approximated width/height ratio of words, filter function is distorted by this factor\n",
    "        # - minArea: ignore word candidates smaller than specified area\n",
    "        res = wordSegmentation(img, kernelSize=25, sigma=11, theta=7, minArea=100)\n",
    "\n",
    "        # write output to 'out/inputFileName' directory\n",
    "        if not os.path.exists('../out/%s' % f):\n",
    "            os.mkdir('../out/%s' % f)\n",
    "\n",
    "        # iterate over all segmented words\n",
    "        print('Segmented into %d words' % len(res))\n",
    "        for (j, w) in enumerate(res):\n",
    "            (wordBox, wordImg) = w\n",
    "            (x, y, w, h) = wordBox\n",
    "            cv2.imwrite('../out/%s/%d.png' % (f, j), wordImg)  # save word\n",
    "            cv2.rectangle(img, (x, y), (x + w, y + h), 0, 1)  # draw bounding box in summary image\n",
    "\n",
    "        # output summary image with bounding boxes around words\n",
    "        cv2.imwrite('../out/%s/summary.png' % f, img)"
   ]
  }
 ],
 "metadata": {
  "kernelspec": {
   "display_name": "Python 3",
   "language": "python",
   "name": "python3"
  },
  "language_info": {
   "codemirror_mode": {
    "name": "ipython",
    "version": 3
   },
   "file_extension": ".py",
   "mimetype": "text/x-python",
   "name": "python",
   "nbconvert_exporter": "python",
   "pygments_lexer": "ipython3",
   "version": "3.6.8"
  }
 },
 "nbformat": 4,
 "nbformat_minor": 2
}
